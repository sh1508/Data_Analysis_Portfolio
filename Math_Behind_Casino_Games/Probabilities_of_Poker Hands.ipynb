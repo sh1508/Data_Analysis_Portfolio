{
 "cells": [
  {
   "cell_type": "markdown",
   "id": "1753a2f3",
   "metadata": {},
   "source": [
    "# Probabilities of Poker Hands"
   ]
  },
  {
   "cell_type": "code",
   "execution_count": 10,
   "id": "e9d92d51",
   "metadata": {},
   "outputs": [],
   "source": [
    "import pandas as pd\n",
    "import numpy as np\n",
    "import math\n",
    "import matplotlib.pyplot as plt\n",
    "import seaborn as sns"
   ]
  },
  {
   "cell_type": "markdown",
   "id": "2b481554",
   "metadata": {},
   "source": [
    "black (spade, heart, clover, diamond): &#9824; &#9829; &#9827; &#9830; <br> \n",
    "white (spade, heart, clover, diamond): &#9828; &#9825; &#9831; &#9826; <br>"
   ]
  },
  {
   "cell_type": "markdown",
   "id": "57a0713c",
   "metadata": {},
   "source": [
    "[Source](https://brilliant.org/wiki/math-of-poker/)"
   ]
  },
  {
   "cell_type": "markdown",
   "id": "dd61797c",
   "metadata": {},
   "source": [
    "## Poker Hands\n",
    "\n",
    "Poker hands are put into classifications so that players can know how much their hand is worth. The following is a list of poker hand classifications, listed from the least valuable to the most valuable:\n",
    "\n",
    "__High Card:__ This type of hand is any hand that cannot be classified as one of the types below. <br>\n",
    "Example: (3 &#9827;, 8 &#9826;, 9 &#9827;, 10 &#9824;, Q &#9824;) <br>\n",
    "\n",
    "__One Pair:__ This type of hand consists of 2 cards of the same rank and 3 other cards of distinct ranks.<br>\n",
    "Example: (J &#9827;, J &#9825;, 5 &#9826;, 10 &#9827;, Q &#9825;) <br>\n",
    "\n",
    "__Two Pair:__ This type of hand consists of 2 cards of the same rank, another 2 cards of the same rank, and a 5th card of a different rank.<br>\n",
    "Example: (2 &#9826;, 2 &#9829;, 7 &#9825;, 7 &#9826;, A &#9824;) <br>\n",
    "\n",
    "__Three of a Kind:__ This type of hand consists of 3 cards of the same rank, and 2 other cards of distinct ranks.<br>\n",
    "Example: (Q &#9827;, Q &#9826;, Q &#9824;, K &#9824;, 4 &#9824;) <br>\n",
    "\n",
    "__Straight:__ This type of hand consists of 5 consecutive cards by value. The face cards are valued above the numbered cards in the order __J, Q, K__. The Ace card can represent the lowest valued card or the highest valued card, but it cannot represent both.<br>\n",
    "Example: (A &#9827;, 2 &#9825;, 3 &#9826;, 4 &#9827;, 5 &#9824;) <br>\n",
    "Example: (10 &#9825;, J &#9825;, Q &#9827;, K &#9824;, A &#9827;) <br>\n",
    "Non-Example: (J &#9825;, Q &#9824;, K &#9824;, A &#9825;, 2 &#9824;) <br>\n",
    "\n",
    "__Flush:__ This type of hand consists of 5 cards of the same suit.<br>\n",
    "Example: (3 &#9825;, 5 &#9825;, 6 &#9825;, 10 &#9825;, K &#9825;) <br>\n",
    "\n",
    "__Full House:__ This type of hand consists of 3 cards of the same rank and another 2 cards of the same rank.<br>\n",
    "Example: (7 &#9825;, 7 &#9826;, 7 &#9824;, 9 &#9826;, 9 &#9827;) <br>\n",
    "\n",
    "__Four of a Kind:__ This type of hand consists of 4 cards of the same rank and another card.<br>\n",
    "Example: (J &#9825;, J &#9826;, J &#9827;, J &#9824;, 3 &#9827;) <br>\n",
    "\n",
    "__Straight Flush:__ This type of hand is a _straight_ and a _flush_ at the same time.<br>\n",
    "Example: (5 &#9826;, 6 &#9826;, 7 &#9826;, 8 &#9826;, 9 &#9826;) <br>\n",
    "\n",
    "__Royal Flush:__ A royal flush is the highest possible _straight flush_. It consists of cards of the ranks __10, J, Q, K, A__ that are all of the same suit.<br>\n",
    "Example: (10 &#9827;, J &#9827;, Q &#9827;, K &#9827;, A &#9827;) <br>\n",
    "\n",
    "These classifications are __mutually exclusive__ and __exhaustive__. If a hand meets the criteria for two classifications, then it is always classified as the higher of those classifications. For example, the hand (7 &#9825;, 7 &#9826;, 7 &#9824;, 9 &#9826;, 9 &#9827;) would always be classified as a _full house_; it would never be classified as _three of a kind_ or _one pair_."
   ]
  },
  {
   "cell_type": "markdown",
   "id": "efdc3938",
   "metadata": {},
   "source": [
    "## Probabilities of Poker Hands\n",
    "\n",
    "First, there are 52 cards in a poker deck, and a hand is a combination of 5 of those cards. Therefore, the number of possible poker hands is:\n",
    "\n",
    "$$\n",
    "\\binom{52}{5} = 2,598,960\n",
    "$$"
   ]
  },
  {
   "cell_type": "code",
   "execution_count": 11,
   "id": "edf64d97",
   "metadata": {},
   "outputs": [
    {
     "data": {
      "text/plain": [
       "2598960"
      ]
     },
     "execution_count": 11,
     "metadata": {},
     "output_type": "execute_result"
    }
   ],
   "source": [
    "n = 52\n",
    "k = 5\n",
    "\n",
    "combinations = math.comb(n, k)\n",
    "combinations"
   ]
  },
  {
   "cell_type": "markdown",
   "id": "db2e000a",
   "metadata": {},
   "source": [
    "## High Card\n",
    "It is necessary to select ranks in such a way that no multiples of the same rank occurs, but it's also necessary to ensure that the hand is not a _straight_ or a _flush_.\n",
    "\n",
    "First, determine the combinations of 5 distinct ranks out of the 13. 10 of these combinations form a _straight_, so subtract those combinations. Then, select a suit for each of those 5 ranks. This can be done in $\\binom{4}{1}^5$ ways, but 4 of those ways give a _flush_, so subtract those ways. Using the rule of product, multiply the number of ways to select the ranks by the number of ways to select the suits.\n",
    "\n",
    "$$\n",
    "P(\\text{High Card Frequency}) = \\left[\\binom{13}{5} - 10\\right]\\left[\\binom{4}{1}^5-4\\right] = 1,302,540\n",
    "$$\n",
    "$$\n",
    "P(\\text{High Card Hand}) = \\frac{1,302,540}{2,598,960} = \\frac{1,277}{2,548} \\approx 0.501177\n",
    "$$"
   ]
  },
  {
   "cell_type": "code",
   "execution_count": 29,
   "id": "0e47fb93",
   "metadata": {},
   "outputs": [
    {
     "name": "stdout",
     "output_type": "stream",
     "text": [
      "Frequency: 1302540\n",
      "Probability: 50.117739403453690%\n"
     ]
    }
   ],
   "source": [
    "high_card_freq = (math.comb(13, 5) - 10) * (math.comb(4, 1)**5 - 4)\n",
    "high_card_prob = high_card_freq / combinations * 100\n",
    "\n",
    "print(f\"Frequency: {high_card_freq}\")\n",
    "print(f\"Probability: {high_card_prob:.15f}%\")"
   ]
  },
  {
   "cell_type": "markdown",
   "id": "7487a39b",
   "metadata": {},
   "source": [
    "### One Pair\n",
    "\n",
    "First, select 1 rank out of the 13 for the pair. Then, select 2 suits out of the 4 for the pair. Then, select 3 distinct ranks from the remaining 12. Then, select a suit for each of those cards. As all of these selections are independent, the rule of product can be used to calculate the total frequency.\n",
    "\n",
    "$$\n",
    "P(\\text{One Pair Frequency}) = \\binom{13}{1}\\binom{4}{2}\\binom{12}{3}\\binom{4}{1}^3 = 1,098,240\n",
    "$$\n",
    "$$\n",
    "P(\\text{One Pair Hand}) = \\frac{1,098,240}{2,598,960} = \\frac{352}{833} \\approx 0.422569\n",
    "$$"
   ]
  },
  {
   "cell_type": "code",
   "execution_count": 30,
   "id": "e45f6645",
   "metadata": {},
   "outputs": [
    {
     "name": "stdout",
     "output_type": "stream",
     "text": [
      "Frequency: 1098240\n",
      "Probability: 42.256902761104442%\n"
     ]
    }
   ],
   "source": [
    "one_pair_freq = math.comb(13, 1) * math.comb(4, 2) * math.comb(12, 3) * math.comb(4, 1)**3\n",
    "one_pair_prob = one_pair_freq / combinations * 100\n",
    "\n",
    "print(f\"Frequency: {one_pair_freq}\")\n",
    "print(f\"Probability: {one_pair_prob:.15f}%\")"
   ]
  },
  {
   "cell_type": "markdown",
   "id": "596567c1",
   "metadata": {},
   "source": [
    "### Two Pair\n",
    "\n",
    "First, select 2 distinct ranks out of the 13 for the two pairs. Then, select 2 distinct suits out of the 4 for each of those pairs. Then, select a rank (out of the 11 remaining) and a suit for the final card. As all of these selections are independent, the rule of product can be used to calculate the total frequency.\n",
    "\n",
    "$$\n",
    "P(\\text{Two Pair Frequency}) = \\binom{13}{2}\\binom{4}{2}^2\\binom{11}{1}\\binom{4}{1} = 123,552\n",
    "$$\n",
    "$$\n",
    "P(\\text{Two Pair Hand}) = \\frac{123,552}{2,598,960} = \\frac{198}{4,165} \\approx 0.047539\n",
    "$$"
   ]
  },
  {
   "cell_type": "code",
   "execution_count": 32,
   "id": "cb6aee5a",
   "metadata": {},
   "outputs": [
    {
     "name": "stdout",
     "output_type": "stream",
     "text": [
      "Frequency: 123552\n",
      "Probability: 4.753901560624250%\n"
     ]
    }
   ],
   "source": [
    "two_pair_freq = math.comb(13, 2) * math.comb(4, 2)**2 * math.comb(11, 1) * math.comb(4, 1)\n",
    "two_pair_prob = two_pair_freq / combinations * 100\n",
    "\n",
    "print(f\"Frequency: {two_pair_freq}\")\n",
    "print(f\"Probability: {two_pair_prob:.15f}%\")"
   ]
  },
  {
   "cell_type": "markdown",
   "id": "c4fac7b0",
   "metadata": {},
   "source": [
    "### Three of a Kind\n",
    "\n",
    "First, select a rank for the three cards of the same rank. Then, select 3 suits out of the 4 for those cards. Then, select 2 distinct ranks out of the remaining 12 for the last two cards. Then, select a suit for each of those cards. As all of these selections are independent, the rule of product can be used to calculate the total frequency.\n",
    "\n",
    "$$\n",
    "P(\\text{Three of a Kind Frequency}) = \\binom{13}{1}\\binom{4}{3}\\binom{12}{2}\\binom{4}{1}^2 = 54,912\n",
    "$$\n",
    "$$\n",
    "P(\\text{Three of a Kind Hand}) = \\frac{54,912}{2,598,960} = \\frac{88}{4,165} \\approx 0.021128\n",
    "$$"
   ]
  },
  {
   "cell_type": "code",
   "execution_count": 33,
   "id": "a4c9ac5d",
   "metadata": {},
   "outputs": [
    {
     "name": "stdout",
     "output_type": "stream",
     "text": [
      "Frequency: 54912\n",
      "Probability: 2.112845138055222%\n"
     ]
    }
   ],
   "source": [
    "three_of_a_kind_freq = math.comb(13, 1) * math.comb(4, 3) * math.comb(12, 2) * math.comb(4, 1)**2\n",
    "three_of_a_kind_prob = three_of_a_kind_freq / combinations * 100\n",
    "\n",
    "print(f\"Frequency: {three_of_a_kind_freq}\")\n",
    "print(f\"Probability: {three_of_a_kind_prob:.15f}%\")"
   ]
  },
  {
   "cell_type": "markdown",
   "id": "c3f69329",
   "metadata": {},
   "source": [
    "### Straight\n",
    "\n",
    "A _straight_ can begin with any rank between __A__ and __10__; thus there are 10 possible ways to choose the ranks for a _straight_. Choose 1 of theese ways. Then, choose a suit for each of those cards. However, 4 of those ways to choose suits are _flushes_, so subtract 4 from that amount. Multiply the number of ways to choose the ranks by the number of ways to choose the suits to obtain the total frequency.\n",
    "\n",
    "$$\n",
    "P(\\text{Straight Frequency}) = \\binom{10}{1}\\left(\\binom{4}{1}^5-4\\right) = 10,200\n",
    "$$\n",
    "$$\n",
    "P(\\text{Straight Hand}) = \\frac{10,200}{2,598,960} = \\frac{5}{1,274} \\approx 0.003925\n",
    "$$"
   ]
  },
  {
   "cell_type": "code",
   "execution_count": 35,
   "id": "4c298e7a",
   "metadata": {},
   "outputs": [
    {
     "name": "stdout",
     "output_type": "stream",
     "text": [
      "Frequency: 10200\n",
      "Probability: 0.392464678178964%\n"
     ]
    }
   ],
   "source": [
    "straight_freq = math.comb(10, 1) * (math.comb(4, 1)**5 - 4) \n",
    "straight_prob = straight_freq / combinations * 100\n",
    "\n",
    "print(f\"Frequency: {straight_freq}\")\n",
    "print(f\"Probability: {straight_prob:.15f}%\")"
   ]
  },
  {
   "cell_type": "markdown",
   "id": "fa9ccc7e",
   "metadata": {},
   "source": [
    "### Flush\n",
    "\n",
    "First, select 5 distinct ranks out of the 13. However, 10 of those combinations are _straights_, so subtract 10 from the number of ways to select ranks. Then, select a suit. Multiply the number of ways to select ranks by the number of ways to select suits to obtain the total frequency.\n",
    "\n",
    "$$\n",
    "P(\\text{Flush Frequency}) = \\left(\\binom{13}{5}-10\\right) \\binom{4}{1}  = 5,108\n",
    "$$\n",
    "$$\n",
    "P(\\text{Flush}) = \\frac{5,108}{2,598,960} = \\frac{1,277}{649,740} \\approx 0.001965\n",
    "$$"
   ]
  },
  {
   "cell_type": "code",
   "execution_count": 36,
   "id": "0c23d05c",
   "metadata": {},
   "outputs": [
    {
     "name": "stdout",
     "output_type": "stream",
     "text": [
      "Frequency: 5108\n",
      "Probability: 0.196540154523348%\n"
     ]
    }
   ],
   "source": [
    "flush_freq = (math.comb(13, 5) - 10) * math.comb(4, 1) \n",
    "flush_prob = flush_freq / combinations * 100\n",
    "\n",
    "print(f\"Frequency: {flush_freq}\")\n",
    "print(f\"Probability: {flush_prob:.15f}%\")"
   ]
  },
  {
   "cell_type": "markdown",
   "id": "80197274",
   "metadata": {},
   "source": [
    "### Full House\n",
    "\n",
    "First, select a rank for the three-of-a-kind. Then, select 3 suites cards out of the 4. Then, select a rank from the remaining 12 for for the pair. Then, select 2 suites for those cards. As all of these selections are independent, use the rule of product to find the total frequency.\n",
    "\n",
    "$$\n",
    "P(\\text{Full House Frequency}) = \\binom{13}{1}\\binom{4}{3}\\binom{12}{1}\\binom{4}{2}  = 3,744\n",
    "$$\n",
    "$$\n",
    "P(\\text{Full House}) = \\frac{3,744}{2,598,960} = \\frac{6}{4,165} \\approx 0.001441\n",
    "$$"
   ]
  },
  {
   "cell_type": "code",
   "execution_count": 37,
   "id": "349ca582",
   "metadata": {},
   "outputs": [
    {
     "name": "stdout",
     "output_type": "stream",
     "text": [
      "Frequency: 3744\n",
      "Probability: 0.144057623049220%\n"
     ]
    }
   ],
   "source": [
    "full_house_freq = math.comb(13, 1) * math.comb(4, 3) * math.comb(12, 1) * math.comb(4, 2) \n",
    "full_house_prob = full_house_freq / combinations * 100\n",
    "\n",
    "print(f\"Frequency: {full_house_freq}\")\n",
    "print(f\"Probability: {full_house_prob:.15f}%\")"
   ]
  },
  {
   "cell_type": "markdown",
   "id": "5e1c3bec",
   "metadata": {},
   "source": [
    "### Four of a Kind\n",
    "\n",
    "First, select a rank for the four-of-a-kind. Select all 4 suits for those cards. Then select a rank (out of the remaining 12) and a suit for the final card in the hand. As all of these selections are independent, use the rule of product to find the total frequency.\n",
    "\n",
    "$$\n",
    "P(\\text{Four of a Kind Frequency}) = \\binom{13}{1}\\binom{4}{4}\\binom{12}{1}\\binom{4}{1}  = 624\n",
    "$$\n",
    "$$\n",
    "P(\\text{Four of a Kind}) = \\frac{624}{2,598,960} = \\frac{1}{4,165} \\approx 0.000240\n",
    "$$"
   ]
  },
  {
   "cell_type": "code",
   "execution_count": 39,
   "id": "1cd6e4e4",
   "metadata": {
    "scrolled": true
   },
   "outputs": [
    {
     "name": "stdout",
     "output_type": "stream",
     "text": [
      "Frequency: 624\n",
      "Probability: 0.024009603841537%\n"
     ]
    }
   ],
   "source": [
    "four_of_a_kind_freq = math.comb(13, 1) * math.comb(4, 4) * math.comb(12, 1) * math.comb(4, 1) \n",
    "four_of_a_kind_prob = four_of_a_kind_freq / combinations * 100\n",
    "\n",
    "print(f\"Frequency: {four_of_a_kind_freq}\")\n",
    "print(f\"Probability: {four_of_a_kind_prob:.15f}%\")"
   ]
  },
  {
   "cell_type": "markdown",
   "id": "1c724dc3",
   "metadata": {},
   "source": [
    "### Straight Flush\n",
    "\n",
    "Select 1 of the 10 possible combinations of ranks that gives a _straight_, then select a single suit for all 5 cards. This gives the number of _straight flushes_, but 4 of those hands are _royal flushes_, so subtract 4 from that amount.\n",
    "\n",
    "$$\n",
    "P(\\text{Straight Flush Frequency}) = \\binom{10}{1}\\binom{4}{1} - 4 = 36\n",
    "$$\n",
    "$$\n",
    "P(\\text{Straight Flush}) = \\frac{36}{2,598,960} = \\frac{3}{216,580} \\approx 0.000014\n",
    "$$"
   ]
  },
  {
   "cell_type": "code",
   "execution_count": 40,
   "id": "e074608d",
   "metadata": {},
   "outputs": [
    {
     "name": "stdout",
     "output_type": "stream",
     "text": [
      "Frequency: 36\n",
      "Probability: 0.001385169452396%\n"
     ]
    }
   ],
   "source": [
    "straight_flush_freq = math.comb(10, 1) * math.comb(4, 1) - 4\n",
    "straight_flush_prob = straight_flush_freq / combinations * 100\n",
    "\n",
    "print(f\"Frequency: {straight_flush_freq}\")\n",
    "print(f\"Probability: {straight_flush_prob:.15f}%\")"
   ]
  },
  {
   "cell_type": "markdown",
   "id": "f809bb54",
   "metadata": {},
   "source": [
    "### Royal Flush\n",
    "\n",
    "There is only one kind of _straight_ that can make a _royal flush_, and it can be any of the 4 suites. Thus, there are only 4 possible _royal flushes_.\n",
    "\n",
    "$$\n",
    "P(\\text{Royal Flush}) = \\frac{4}{2,598,960} = \\frac{1}{649,740} \\approx 0.000002\n",
    "$$"
   ]
  },
  {
   "cell_type": "code",
   "execution_count": 42,
   "id": "288e387f",
   "metadata": {},
   "outputs": [
    {
     "name": "stdout",
     "output_type": "stream",
     "text": [
      "Frequency: 4\n",
      "Probability: 0.000153907716933%\n"
     ]
    }
   ],
   "source": [
    "royal_flush_freq = 4\n",
    "royal_flush_prob = royal_flush_freq / combinations * 100\n",
    "\n",
    "print(f\"Frequency: {royal_flush_freq}\")\n",
    "print(f\"Probability: {royal_flush_prob:.15f}%\")"
   ]
  },
  {
   "cell_type": "code",
   "execution_count": 61,
   "id": "bb905607",
   "metadata": {},
   "outputs": [
    {
     "data": {
      "text/html": [
       "<div>\n",
       "<style scoped>\n",
       "    .dataframe tbody tr th:only-of-type {\n",
       "        vertical-align: middle;\n",
       "    }\n",
       "\n",
       "    .dataframe tbody tr th {\n",
       "        vertical-align: top;\n",
       "    }\n",
       "\n",
       "    .dataframe thead th {\n",
       "        text-align: right;\n",
       "    }\n",
       "</style>\n",
       "<table border=\"1\" class=\"dataframe\">\n",
       "  <thead>\n",
       "    <tr style=\"text-align: right;\">\n",
       "      <th></th>\n",
       "      <th>Frequency</th>\n",
       "      <th>Probability (%)</th>\n",
       "    </tr>\n",
       "  </thead>\n",
       "  <tbody>\n",
       "    <tr>\n",
       "      <th>High Card</th>\n",
       "      <td>1302540</td>\n",
       "      <td>50.117739</td>\n",
       "    </tr>\n",
       "    <tr>\n",
       "      <th>One Pair</th>\n",
       "      <td>1098240</td>\n",
       "      <td>42.256903</td>\n",
       "    </tr>\n",
       "    <tr>\n",
       "      <th>Two Pair</th>\n",
       "      <td>123552</td>\n",
       "      <td>4.753902</td>\n",
       "    </tr>\n",
       "    <tr>\n",
       "      <th>Three of a Kind</th>\n",
       "      <td>54912</td>\n",
       "      <td>2.112845</td>\n",
       "    </tr>\n",
       "    <tr>\n",
       "      <th>Straight</th>\n",
       "      <td>10200</td>\n",
       "      <td>0.392465</td>\n",
       "    </tr>\n",
       "    <tr>\n",
       "      <th>Flush</th>\n",
       "      <td>5108</td>\n",
       "      <td>0.196540</td>\n",
       "    </tr>\n",
       "    <tr>\n",
       "      <th>Full House</th>\n",
       "      <td>3744</td>\n",
       "      <td>0.144058</td>\n",
       "    </tr>\n",
       "    <tr>\n",
       "      <th>Four of a Kind</th>\n",
       "      <td>624</td>\n",
       "      <td>0.024010</td>\n",
       "    </tr>\n",
       "    <tr>\n",
       "      <th>Straight Flush</th>\n",
       "      <td>36</td>\n",
       "      <td>0.001385</td>\n",
       "    </tr>\n",
       "    <tr>\n",
       "      <th>Royal Flush</th>\n",
       "      <td>4</td>\n",
       "      <td>0.000154</td>\n",
       "    </tr>\n",
       "    <tr>\n",
       "      <th>Total</th>\n",
       "      <td>2598960</td>\n",
       "      <td>100.000000</td>\n",
       "    </tr>\n",
       "  </tbody>\n",
       "</table>\n",
       "</div>"
      ],
      "text/plain": [
       "                 Frequency  Probability (%)\n",
       "High Card          1302540        50.117739\n",
       "One Pair           1098240        42.256903\n",
       "Two Pair            123552         4.753902\n",
       "Three of a Kind      54912         2.112845\n",
       "Straight             10200         0.392465\n",
       "Flush                 5108         0.196540\n",
       "Full House            3744         0.144058\n",
       "Four of a Kind         624         0.024010\n",
       "Straight Flush          36         0.001385\n",
       "Royal Flush              4         0.000154\n",
       "Total              2598960       100.000000"
      ]
     },
     "execution_count": 61,
     "metadata": {},
     "output_type": "execute_result"
    }
   ],
   "source": [
    "summary = pd.DataFrame(\n",
    "{\n",
    "    'Frequency': [high_card_freq, one_pair_freq, two_pair_freq, three_of_a_kind_freq, straight_freq, \n",
    "                  flush_freq, full_house_freq, four_of_a_kind_freq, straight_flush_freq, royal_flush_freq, combinations],\n",
    "    'Probability (%)': [high_card_prob, one_pair_prob, two_pair_prob, three_of_a_kind_prob, straight_prob, \n",
    "                        flush_prob, full_house_prob, four_of_a_kind_prob, straight_flush_prob, royal_flush_prob, 100]\n",
    "}, index = ['High Card', 'One Pair', 'Two Pair', 'Three of a Kind', 'Straight', \n",
    "            'Flush', 'Full House', 'Four of a Kind', 'Straight Flush', 'Royal Flush', 'Total']\n",
    ")\n",
    "\n",
    "summary"
   ]
  }
 ],
 "metadata": {
  "kernelspec": {
   "display_name": "Python 3 (ipykernel)",
   "language": "python",
   "name": "python3"
  },
  "language_info": {
   "codemirror_mode": {
    "name": "ipython",
    "version": 3
   },
   "file_extension": ".py",
   "mimetype": "text/x-python",
   "name": "python",
   "nbconvert_exporter": "python",
   "pygments_lexer": "ipython3",
   "version": "3.11.5"
  }
 },
 "nbformat": 4,
 "nbformat_minor": 5
}
